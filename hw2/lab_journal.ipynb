{
 "cells": [
  {
   "cell_type": "markdown",
   "metadata": {},
   "source": [
    "# Шаг 1: Контроль качества ридов"
   ]
  },
  {
   "cell_type": "markdown",
   "metadata": {},
   "source": [
    "## Создаем окружение fastqc"
   ]
  },
  {
   "cell_type": "markdown",
   "metadata": {},
   "source": [
    "conda create -n fastqc python=3.8\n",
    "\n",
    "conda activate fastqc\n",
    "\n",
    "conda install -c bioconda fastqc"
   ]
  },
  {
   "cell_type": "markdown",
   "metadata": {},
   "source": [
    "## создаем папки под риды\n",
    "\n",
    "mkdir /home/samnumbula/data_driven_2024/data_driven_2024/hw2/fastqc/SRR292678\n",
    "mkdir /home/samnumbula/data_driven_2024/data_driven_2024/hw2/fastqc/SRR292770\n",
    "mkdir /home/samnumbula/data_driven_2024/data_driven_2024/hw2/fastqc/SRR292862"
   ]
  },
  {
   "cell_type": "markdown",
   "metadata": {},
   "source": [
    "## Распаковка ридов"
   ]
  },
  {
   "cell_type": "code",
   "execution_count": null,
   "metadata": {},
   "outputs": [
    {
     "name": "stdout",
     "output_type": "stream",
     "text": [
      "fastqc /home/samnumbula/data_driven_2024/data_driven_2024/hw2/reads/SRR292678_1.fastq.gz /home/samnumbula/data_driven_2024/data_driven_2024/hw2/reads/SRR292678_2.fastq.gz -o /home/samnumbula/data_driven_2024/data_driven_2024/hw2/fastqc/SRR292678\n"
     ]
    }
   ],
   "source": [
    "import os\n",
    "\n",
    "read_1 = os.path.abspath('./reads/SRR292678_1.fastq.gz')\n",
    "read_2 = os.path.abspath('./reads/SRR292678_2.fastq.gz')\n",
    "fastqc_outdir = os.path.abspath('fastqc/SRR292678')\n",
    "fastqc_command = f'fastqc {read_1} {read_2} -o {fastqc_outdir}'\n",
    "print(fastqc_command)"
   ]
  },
  {
   "cell_type": "markdown",
   "metadata": {},
   "source": [
    "#распаковываем каждый архив с отчетом\n",
    "\n",
    "unzip /home/samnumbula/data_driven_2024/data_driven_2024/hw2/fastqc/SRR292678/SRR292678_1_fastqc.zip -d /home/samnumbula/data_driven_2024/data_driven_2024/hw2/fastqc/SRR292678/\n",
    "unzip /home/samnumbula/data_driven_2024/data_driven_2024/hw2/fastqc/SRR292678/SRR292678_2_fastqc.zip -d /home/samnumbula/data_driven_2024/data_driven_2024/hw2/fastqc/SRR292678/\n",
    "\n",
    "unzip /home/samnumbula/data_driven_2024/data_driven_2024/hw2/fastqc/SRR292770/SRR292770_1_fastqc.zip -d /home/samnumbula/data_driven_2024/data_driven_2024/hw2/fastqc/SRR292770/\n",
    "unzip /home/samnumbula/data_driven_2024/data_driven_2024/hw2/fastqc/SRR292770/SRR292770_2_fastqc.zip -d /home/samnumbula/data_driven_2024/data_driven_2024/hw2/fastqc/SRR292770/\n",
    "\n",
    "unzip /home/samnumbula/data_driven_2024/data_driven_2024/hw2/fastqc/SRR292862/SRR292862_1_fastqc.zip -d /home/samnumbula/data_driven_2024/data_driven_2024/hw2/fastqc/SRR292862/\n",
    "unzip /home/samnumbula/data_driven_2024/data_driven_2024/hw2/fastqc/SRR292862/SRR292862_2_fastqc.zip -d /home/samnumbula/data_driven_2024/data_driven_2024/hw2/fastqc/SRR292862/"
   ]
  },
  {
   "attachments": {
    "image.png": {
     "image/png": "[encoded data removed]"
    }
   },
   "cell_type": "markdown",
   "metadata": {},
   "source": [
    "Получили 3 папки с результатами анализа ридов. Пример:\n",
    "\n",
    "\n",
    "![image.png](attachment:image.png)\n",
    "\n",
    "\n",
    "Далее переносим все в папку fastqc"
   ]
  },
  {
   "cell_type": "markdown",
   "metadata": {},
   "source": [
    "# Шаг 2: Сборка генома"
   ]
  },
  {
   "cell_type": "markdown",
   "metadata": {},
   "source": [
    "# создаем окружение spades\n",
    "conda create -n spades python=3.8\n",
    "\n",
    "conda activate spades\n",
    "\n",
    "conda install -c bioconda spades\n"
   ]
  },
  {
   "cell_type": "code",
   "execution_count": null,
   "metadata": {},
   "outputs": [
    {
     "ename": "IndentationError",
     "evalue": "unexpected indent (1384845350.py, line 13)",
     "output_type": "error",
     "traceback": [
      "\u001b[0;36m  Cell \u001b[0;32mIn[28], line 13\u001b[0;36m\u001b[0m\n\u001b[0;31m    -2 /home/samnumbula/data_driven_2024/data_driven_2024/hw2/reads/SRR292678_2.fastq.gz\u001b[0m\n\u001b[0m    ^\u001b[0m\n\u001b[0;31mIndentationError\u001b[0m\u001b[0;31m:\u001b[0m unexpected indent\n"
     ]
    }
   ],
   "source": [
    "import os\n",
    "list = ['SRR292678', 'SRR292770', 'SRR292862']\n",
    "for i in list:\n",
    "    read_1 = os.path.abspath(f'./reads/{i}_1.fastq.gz')\n",
    "    read_2 = os.path.abspath(f'./reads/{i}_2.fastq.gz')\n",
    "    spades_outdir = os.path.abspath('./spades')\n",
    "    spades_command = f'spades.py -1 {read_1} -2 {read_2} -o {spades_outdir}'\n",
    "    print(spades_command)\n",
    "    print('\\n')"
   ]
  },
  {
   "cell_type": "markdown",
   "metadata": {},
   "source": [
    "''''''\n",
    "spades.py -1 /home/samnumbula/data_driven_2024/data_driven_2024/hw2/reads/SRR292678_1.fastq.gz \n",
    "          -2 /home/samnumbula/data_driven_2024/data_driven_2024/hw2/reads/SRR292678_2.fastq.gz \n",
    "          -o /home/samnumbula/data_driven_2024/data_driven_2024/hw2/spades\n",
    "''''''"
   ]
  },
  {
   "cell_type": "code",
   "execution_count": null,
   "metadata": {},
   "outputs": [
    {
     "name": "stdout",
     "output_type": "stream",
     "text": [
      "spades.py -1 /home/samnumbula/data_driven_2024/data_driven_2024/hw2/reads/SRR292678_1.fastq.gz -2 /home/samnumbula/data_driven_2024/data_driven_2024/hw2/reads/SRR292678_2.fastq.gz -o /home/samnumbula/data_driven_2024/data_driven_2024/hw2/spades\n"
     ]
    }
   ],
   "source": [
    "import os\n",
    "list = ['SRR292678', 'SRR292770'], 'SRR292862'\n",
    "read_1 = os.path.abspath(f'./reads/SRR292678_1.fastq.gz')\n",
    "read_2 = os.path.abspath('./reads/SRR292678_2.fastq.gz')\n",
    "fastqc_outdir = os.path.abspath('./spades')\n",
    "fastqc_command = f'spades.py -1 {read_1} -2 {read_2} -o {fastqc_outdir}'\n",
    "print(fastqc_command)"
   ]
  },
  {
   "cell_type": "markdown",
   "metadata": {},
   "source": [
    "# Шаг 3: Оценка качества сборки"
   ]
  },
  {
   "cell_type": "code",
   "execution_count": null,
   "metadata": {},
   "outputs": [],
   "source": [
    "spades.py -1 SRR31122807_1.fastq.gz -2 SRR31122807_2.fastq.gz"
   ]
  },
  {
   "cell_type": "code",
   "execution_count": null,
   "metadata": {},
   "outputs": [],
   "source": [
    "conda install -c bioconda quast"
   ]
  },
  {
   "cell_type": "code",
   "execution_count": null,
   "metadata": {},
   "outputs": [],
   "source": [
    "quast.py -r spades_output/contigs.fasta -o quast_output"
   ]
  }
 ],
 "metadata": {
  "kernelspec": {
   "display_name": "myenv",
   "language": "python",
   "name": "python3"
  },
  "language_info": {
   "codemirror_mode": {
    "name": "ipython",
    "version": 3
   },
   "file_extension": ".py",
   "mimetype": "text/x-python",
   "name": "python",
   "nbconvert_exporter": "python",
   "pygments_lexer": "ipython3",
   "version": "3.9.20"
  }
 },
 "nbformat": 4,
 "nbformat_minor": 2
}
